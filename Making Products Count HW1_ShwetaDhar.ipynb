{
 "cells": [
  {
   "cell_type": "markdown",
   "metadata": {},
   "source": [
    "# Calculating Customer Lifetime Value (CLV)"
   ]
  },
  {
   "cell_type": "code",
   "execution_count": 1,
   "metadata": {},
   "outputs": [],
   "source": [
    "import numpy as np\n",
    "import pandas as pd\n",
    "import matplotlib.pyplot as plt\n",
    "import seaborn as sns"
   ]
  },
  {
   "cell_type": "markdown",
   "metadata": {},
   "source": [
    "## Step 1: Understand the dataset"
   ]
  },
  {
   "cell_type": "markdown",
   "metadata": {},
   "source": [
    "### Reading the data file "
   ]
  },
  {
   "cell_type": "code",
   "execution_count": 2,
   "metadata": {},
   "outputs": [
    {
     "data": {
      "text/html": [
       "<div>\n",
       "<style scoped>\n",
       "    .dataframe tbody tr th:only-of-type {\n",
       "        vertical-align: middle;\n",
       "    }\n",
       "\n",
       "    .dataframe tbody tr th {\n",
       "        vertical-align: top;\n",
       "    }\n",
       "\n",
       "    .dataframe thead th {\n",
       "        text-align: right;\n",
       "    }\n",
       "</style>\n",
       "<table border=\"1\" class=\"dataframe\">\n",
       "  <thead>\n",
       "    <tr style=\"text-align: right;\">\n",
       "      <th></th>\n",
       "      <th>TransactionID</th>\n",
       "      <th>TransactionDate</th>\n",
       "      <th>CustomerID</th>\n",
       "      <th>Amount</th>\n",
       "    </tr>\n",
       "  </thead>\n",
       "  <tbody>\n",
       "    <tr>\n",
       "      <th>0</th>\n",
       "      <td>1</td>\n",
       "      <td>9/4/2012</td>\n",
       "      <td>1</td>\n",
       "      <td>20.26</td>\n",
       "    </tr>\n",
       "    <tr>\n",
       "      <th>1</th>\n",
       "      <td>2</td>\n",
       "      <td>5/15/2012</td>\n",
       "      <td>2</td>\n",
       "      <td>10.87</td>\n",
       "    </tr>\n",
       "    <tr>\n",
       "      <th>2</th>\n",
       "      <td>3</td>\n",
       "      <td>5/23/2014</td>\n",
       "      <td>2</td>\n",
       "      <td>2.21</td>\n",
       "    </tr>\n",
       "    <tr>\n",
       "      <th>3</th>\n",
       "      <td>4</td>\n",
       "      <td>10/24/2014</td>\n",
       "      <td>2</td>\n",
       "      <td>10.48</td>\n",
       "    </tr>\n",
       "    <tr>\n",
       "      <th>4</th>\n",
       "      <td>5</td>\n",
       "      <td>10/13/2012</td>\n",
       "      <td>2</td>\n",
       "      <td>3.94</td>\n",
       "    </tr>\n",
       "  </tbody>\n",
       "</table>\n",
       "</div>"
      ],
      "text/plain": [
       "   TransactionID TransactionDate  CustomerID  Amount\n",
       "0              1        9/4/2012           1   20.26\n",
       "1              2       5/15/2012           2   10.87\n",
       "2              3       5/23/2014           2    2.21\n",
       "3              4      10/24/2014           2   10.48\n",
       "4              5      10/13/2012           2    3.94"
      ]
     },
     "execution_count": 2,
     "metadata": {},
     "output_type": "execute_result"
    }
   ],
   "source": [
    "df = pd.read_csv('HW1 clv_transactions.csv')\n",
    "df.head()"
   ]
  },
  {
   "cell_type": "markdown",
   "metadata": {},
   "source": [
    "### Are there any missing values in the dataset"
   ]
  },
  {
   "cell_type": "code",
   "execution_count": 3,
   "metadata": {
    "scrolled": true
   },
   "outputs": [
    {
     "name": "stdout",
     "output_type": "stream",
     "text": [
      "Missing values in Transaction ID: 0\n",
      "Missing values in Transaction Date: 0\n",
      "Missing values in Customer ID: 0\n",
      "Missing values in Amount: 0\n"
     ]
    }
   ],
   "source": [
    "print(\"Missing values in Transaction ID: {}\".format((df['TransactionID'].isnull() | df['TransactionID'].isna()).sum()))\n",
    "print(\"Missing values in Transaction Date: {}\".format((df['TransactionDate'].isnull() | df['TransactionDate'].isna()).sum()))\n",
    "print(\"Missing values in Customer ID: {}\".format((df['CustomerID'].isnull() | df['CustomerID'].isna()).sum()))\n",
    "print(\"Missing values in Amount: {}\".format((df['Amount'].isnull() | df['Amount'].isna()).sum()))"
   ]
  },
  {
   "cell_type": "markdown",
   "metadata": {},
   "source": [
    "There are no missing values in this dataset."
   ]
  },
  {
   "cell_type": "markdown",
   "metadata": {},
   "source": [
    "### What is the range of dates in the dataset?"
   ]
  },
  {
   "cell_type": "code",
   "execution_count": 4,
   "metadata": {},
   "outputs": [
    {
     "name": "stdout",
     "output_type": "stream",
     "text": [
      "Minimum date: 1/1/2011\n",
      "Maximum date: 9/9/2015\n"
     ]
    }
   ],
   "source": [
    "print('Minimum date: {}'.format(min(df['TransactionDate'])))\n",
    "print('Maximum date: {}'.format(max(df['TransactionDate'])))"
   ]
  },
  {
   "cell_type": "markdown",
   "metadata": {},
   "source": [
    "The range of dates is 1/1/2011 to 9/9/2015."
   ]
  },
  {
   "cell_type": "markdown",
   "metadata": {},
   "source": [
    "### How many unique customers are there in the dataset?"
   ]
  },
  {
   "cell_type": "code",
   "execution_count": 5,
   "metadata": {},
   "outputs": [
    {
     "name": "stdout",
     "output_type": "stream",
     "text": [
      "Number of unique customers: 1000\n"
     ]
    }
   ],
   "source": [
    "print('Number of unique customers: {}'.format(df['CustomerID'].nunique()))"
   ]
  },
  {
   "cell_type": "markdown",
   "metadata": {},
   "source": [
    "The number of unique customers in our dataset is 1000."
   ]
  },
  {
   "cell_type": "markdown",
   "metadata": {},
   "source": [
    "### Profile the data to give the standard descriptive statistics for the Amount field. What is the min, max, variance, and standard deviations?"
   ]
  },
  {
   "cell_type": "code",
   "execution_count": 6,
   "metadata": {},
   "outputs": [
    {
     "name": "stdout",
     "output_type": "stream",
     "text": [
      "Desrcriptive statistics\n",
      "count    4186.000000\n",
      "mean        9.028082\n",
      "std        38.723909\n",
      "min        -1.000000\n",
      "25%         3.310000\n",
      "50%         6.885000\n",
      "75%        11.690000\n",
      "max      2033.000000\n",
      "Name: Amount, dtype: float64\n",
      "\n",
      "\n",
      "Variance: 1499.5411107517461\n"
     ]
    }
   ],
   "source": [
    "print('Desrcriptive statistics')\n",
    "print(df['Amount'].describe())\n",
    "print('\\n')\n",
    "print('Variance: {}'.format(df['Amount'].var()))"
   ]
  },
  {
   "cell_type": "markdown",
   "metadata": {},
   "source": [
    "Descriptive statistics are as follows:\n",
    "    min = -1.0,\n",
    "    max = 2033.0,\n",
    "    variance = 1499.5,\n",
    "    standard deviation = 38.7"
   ]
  },
  {
   "cell_type": "markdown",
   "metadata": {},
   "source": [
    "### Do transaction amounts in general increase over time (perhaps due to inflation)?"
   ]
  },
  {
   "cell_type": "code",
   "execution_count": 7,
   "metadata": {},
   "outputs": [
    {
     "data": {
      "image/png": "[encoded data removed]",
      "text/plain": [
       "<Figure size 432x288 with 1 Axes>"
      ]
     },
     "metadata": {},
     "output_type": "display_data"
    }
   ],
   "source": [
    "#Scatterplot to see the variation in amount spent over years\n",
    "df_year = df\n",
    "df_year['Year'] = pd.DatetimeIndex(df_year['TransactionDate']).year\n",
    "xs = df_year['Year']\n",
    "ys = df_year['Amount']\n",
    "plt.scatter(xs, ys)\n",
    "plt.xlabel('Amount',fontsize = 10)\n",
    "plt.ylabel('Year', fontsize = 10)\n",
    "plt.show()"
   ]
  },
  {
   "cell_type": "markdown",
   "metadata": {},
   "source": [
    "This plot clearly tells us that we have 3 outliers that stand out in our data. To understand the trend in data, I've looked at the mean and median spending in the plots below."
   ]
  },
  {
   "cell_type": "code",
   "execution_count": 8,
   "metadata": {},
   "outputs": [
    {
     "data": {
      "image/png": "[encoded data removed]",
      "text/plain": [
       "<Figure size 432x288 with 1 Axes>"
      ]
     },
     "metadata": {},
     "output_type": "display_data"
    }
   ],
   "source": [
    "#Scatterplot to see the mean amount spent over years\n",
    "newdf_mean = df_year.groupby(df_year['Year'])['Amount'].mean()\n",
    "xs = np.sort(df_year['Year'].unique())\n",
    "ys = list(newdf_mean)\n",
    "plt.scatter(xs, ys)\n",
    "plt.xlabel('Amount',fontsize = 10)\n",
    "plt.ylabel('Year', fontsize = 10)\n",
    "plt.show()"
   ]
  },
  {
   "cell_type": "code",
   "execution_count": 9,
   "metadata": {},
   "outputs": [
    {
     "data": {
      "image/png": "[encoded data removed]",
      "text/plain": [
       "<Figure size 432x288 with 1 Axes>"
      ]
     },
     "metadata": {},
     "output_type": "display_data"
    }
   ],
   "source": [
    "#Scatterplot to see the median amount spent over years\n",
    "newdf_median = df_year.groupby(df_year['Year'])['Amount'].median()\n",
    "xs = np.sort(df_year['Year'].unique())\n",
    "ys = list(newdf_median)\n",
    "plt.scatter(xs, ys)\n",
    "plt.xlabel('Amount',fontsize = 10)\n",
    "plt.ylabel('Year', fontsize = 10)\n",
    "plt.show()"
   ]
  },
  {
   "cell_type": "code",
   "execution_count": 10,
   "metadata": {},
   "outputs": [
    {
     "data": {
      "image/png": "[encoded data removed]",
      "text/plain": [
       "<Figure size 432x288 with 1 Axes>"
      ]
     },
     "metadata": {},
     "output_type": "display_data"
    }
   ],
   "source": [
    "#Scatterplot to see the mean amount spent over years after removing outliers\n",
    "df_without_outliers = df[(np.abs(df.Amount-df.Amount.mean()) <= (3*df.Amount.std())) & (df.Amount > 0)]\n",
    "newdf_mean_out = df_without_outliers.groupby(df_year['Year'])['Amount'].mean()\n",
    "xs = np.sort(df_year['Year'].unique())\n",
    "ys = list(newdf_mean_out)\n",
    "plt.scatter(xs, ys)\n",
    "plt.xlabel('Amount',fontsize = 10)\n",
    "plt.ylabel('Year', fontsize = 10)\n",
    "plt.show()"
   ]
  },
  {
   "cell_type": "markdown",
   "metadata": {},
   "source": [
    "No, the transaction amounts don't generally increase over time. They increased over time from 2011 to 2013 and then dropped in 2014 (looking at the mean spend over years and considering we have outliers in 2011, 2012 and 2014). Hence we can say that there is no general trend of increase in amounts."
   ]
  },
  {
   "cell_type": "markdown",
   "metadata": {},
   "source": [
    "## Step 2: Explore the dataset"
   ]
  },
  {
   "cell_type": "markdown",
   "metadata": {},
   "source": [
    "### Are there any outliers?"
   ]
  },
  {
   "cell_type": "code",
   "execution_count": 11,
   "metadata": {},
   "outputs": [
    {
     "name": "stdout",
     "output_type": "stream",
     "text": [
      "Count of outliers: 3\n"
     ]
    },
    {
     "data": {
      "text/html": [
       "<div>\n",
       "<style scoped>\n",
       "    .dataframe tbody tr th:only-of-type {\n",
       "        vertical-align: middle;\n",
       "    }\n",
       "\n",
       "    .dataframe tbody tr th {\n",
       "        vertical-align: top;\n",
       "    }\n",
       "\n",
       "    .dataframe thead th {\n",
       "        text-align: right;\n",
       "    }\n",
       "</style>\n",
       "<table border=\"1\" class=\"dataframe\">\n",
       "  <thead>\n",
       "    <tr style=\"text-align: right;\">\n",
       "      <th></th>\n",
       "      <th>TransactionID</th>\n",
       "      <th>TransactionDate</th>\n",
       "      <th>CustomerID</th>\n",
       "      <th>Amount</th>\n",
       "      <th>Year</th>\n",
       "    </tr>\n",
       "  </thead>\n",
       "  <tbody>\n",
       "    <tr>\n",
       "      <th>23</th>\n",
       "      <td>24</td>\n",
       "      <td>10/7/2011</td>\n",
       "      <td>7</td>\n",
       "      <td>1003.0</td>\n",
       "      <td>2011</td>\n",
       "    </tr>\n",
       "    <tr>\n",
       "      <th>211</th>\n",
       "      <td>212</td>\n",
       "      <td>5/14/2014</td>\n",
       "      <td>54</td>\n",
       "      <td>1027.0</td>\n",
       "      <td>2014</td>\n",
       "    </tr>\n",
       "    <tr>\n",
       "      <th>4177</th>\n",
       "      <td>4178</td>\n",
       "      <td>8/13/2012</td>\n",
       "      <td>1000</td>\n",
       "      <td>2033.0</td>\n",
       "      <td>2012</td>\n",
       "    </tr>\n",
       "  </tbody>\n",
       "</table>\n",
       "</div>"
      ],
      "text/plain": [
       "      TransactionID TransactionDate  CustomerID  Amount  Year\n",
       "23               24       10/7/2011           7  1003.0  2011\n",
       "211             212       5/14/2014          54  1027.0  2014\n",
       "4177           4178       8/13/2012        1000  2033.0  2012"
      ]
     },
     "execution_count": 11,
     "metadata": {},
     "output_type": "execute_result"
    }
   ],
   "source": [
    "df_outliers = df[np.abs(df.Amount-df.Amount.mean()) > (3*df.Amount.std())]\n",
    "print('Count of outliers:', df_outliers['TransactionID'].count())\n",
    "df_outliers"
   ]
  },
  {
   "cell_type": "code",
   "execution_count": 12,
   "metadata": {},
   "outputs": [
    {
     "name": "stdout",
     "output_type": "stream",
     "text": [
      "Count of negative outliers: 2\n"
     ]
    },
    {
     "data": {
      "text/html": [
       "<div>\n",
       "<style scoped>\n",
       "    .dataframe tbody tr th:only-of-type {\n",
       "        vertical-align: middle;\n",
       "    }\n",
       "\n",
       "    .dataframe tbody tr th {\n",
       "        vertical-align: top;\n",
       "    }\n",
       "\n",
       "    .dataframe thead th {\n",
       "        text-align: right;\n",
       "    }\n",
       "</style>\n",
       "<table border=\"1\" class=\"dataframe\">\n",
       "  <thead>\n",
       "    <tr style=\"text-align: right;\">\n",
       "      <th></th>\n",
       "      <th>TransactionID</th>\n",
       "      <th>TransactionDate</th>\n",
       "      <th>CustomerID</th>\n",
       "      <th>Amount</th>\n",
       "      <th>Year</th>\n",
       "    </tr>\n",
       "  </thead>\n",
       "  <tbody>\n",
       "    <tr>\n",
       "      <th>49</th>\n",
       "      <td>50</td>\n",
       "      <td>5/12/2012</td>\n",
       "      <td>13</td>\n",
       "      <td>-1.0</td>\n",
       "      <td>2012</td>\n",
       "    </tr>\n",
       "    <tr>\n",
       "      <th>3326</th>\n",
       "      <td>3327</td>\n",
       "      <td>1/16/2014</td>\n",
       "      <td>811</td>\n",
       "      <td>-1.0</td>\n",
       "      <td>2014</td>\n",
       "    </tr>\n",
       "  </tbody>\n",
       "</table>\n",
       "</div>"
      ],
      "text/plain": [
       "      TransactionID TransactionDate  CustomerID  Amount  Year\n",
       "49               50       5/12/2012          13    -1.0  2012\n",
       "3326           3327       1/16/2014         811    -1.0  2014"
      ]
     },
     "execution_count": 12,
     "metadata": {},
     "output_type": "execute_result"
    }
   ],
   "source": [
    "df_outliers_neg = df[(df.Amount) < 0]\n",
    "print('Count of negative outliers:', df_outliers_neg['TransactionID'].count())\n",
    "df_outliers_neg"
   ]
  },
  {
   "cell_type": "code",
   "execution_count": 13,
   "metadata": {},
   "outputs": [
    {
     "data": {
      "text/plain": [
       "array([[<matplotlib.axes._subplots.AxesSubplot object at 0x000001F08746FE48>]],\n",
       "      dtype=object)"
      ]
     },
     "execution_count": 13,
     "metadata": {},
     "output_type": "execute_result"
    },
    {
     "data": {
      "image/png": "[encoded data removed]",
      "text/plain": [
       "<Figure size 1440x720 with 1 Axes>"
      ]
     },
     "metadata": {},
     "output_type": "display_data"
    }
   ],
   "source": [
    "df.hist(column='Amount', bins='auto', figsize=(20,10))"
   ]
  },
  {
   "cell_type": "markdown",
   "metadata": {},
   "source": [
    "Yes, there are around 5 outliers in the dataset. I calculated them based on the histogram and the 3 time standard deviation rule. So the values that are 3 times the standard deviation away from the mean have been removed. Additionally, the amount can not be negative. Hence, negative transactions have also been removed"
   ]
  },
  {
   "cell_type": "markdown",
   "metadata": {},
   "source": [
    "### If so how would you treat them?"
   ]
  },
  {
   "cell_type": "code",
   "execution_count": 14,
   "metadata": {},
   "outputs": [
    {
     "name": "stdout",
     "output_type": "stream",
     "text": [
      "Count (without outliers): 4181\n"
     ]
    },
    {
     "data": {
      "text/plain": [
       "array([[<matplotlib.axes._subplots.AxesSubplot object at 0x000001F08766D5C0>]],\n",
       "      dtype=object)"
      ]
     },
     "execution_count": 14,
     "metadata": {},
     "output_type": "execute_result"
    },
    {
     "data": {
      "image/png": "[encoded data removed]",
      "text/plain": [
       "<Figure size 1440x720 with 1 Axes>"
      ]
     },
     "metadata": {},
     "output_type": "display_data"
    }
   ],
   "source": [
    "#Removed outliers by using 3 std dev formula and then plotted histogram\n",
    "df_without_outliers = df[(np.abs(df.Amount-df.Amount.mean()) <= (3*df.Amount.std())) & (df.Amount > 0)]\n",
    "print('Count (without outliers):', df_without_outliers['TransactionID'].count())\n",
    "df_without_outliers.hist(column='Amount', bins='auto', figsize=(20,10))"
   ]
  },
  {
   "cell_type": "markdown",
   "metadata": {},
   "source": [
    "We should remove the outliers to remove skewness from our data. As we can see from the graph above, we can see that post removing outliers the range of our distribution seems to narrow down quite a lot. Additionally, the amount can not be negative. Hence these values should also not be considered."
   ]
  },
  {
   "cell_type": "markdown",
   "metadata": {},
   "source": [
    "## Step 3: Determine origin year of customers"
   ]
  },
  {
   "cell_type": "code",
   "execution_count": 15,
   "metadata": {},
   "outputs": [
    {
     "data": {
      "text/html": [
       "<div>\n",
       "<style scoped>\n",
       "    .dataframe tbody tr th:only-of-type {\n",
       "        vertical-align: middle;\n",
       "    }\n",
       "\n",
       "    .dataframe tbody tr th {\n",
       "        vertical-align: top;\n",
       "    }\n",
       "\n",
       "    .dataframe thead th {\n",
       "        text-align: right;\n",
       "    }\n",
       "</style>\n",
       "<table border=\"1\" class=\"dataframe\">\n",
       "  <thead>\n",
       "    <tr style=\"text-align: right;\">\n",
       "      <th></th>\n",
       "      <th>TransactionID</th>\n",
       "      <th>TransactionDate</th>\n",
       "      <th>CustomerID</th>\n",
       "      <th>Amount</th>\n",
       "      <th>Year</th>\n",
       "      <th>Origin_Year</th>\n",
       "    </tr>\n",
       "  </thead>\n",
       "  <tbody>\n",
       "    <tr>\n",
       "      <th>0</th>\n",
       "      <td>1</td>\n",
       "      <td>9/4/2012</td>\n",
       "      <td>1</td>\n",
       "      <td>20.26</td>\n",
       "      <td>2012</td>\n",
       "      <td>2012</td>\n",
       "    </tr>\n",
       "    <tr>\n",
       "      <th>1</th>\n",
       "      <td>2</td>\n",
       "      <td>5/15/2012</td>\n",
       "      <td>2</td>\n",
       "      <td>10.87</td>\n",
       "      <td>2012</td>\n",
       "      <td>2012</td>\n",
       "    </tr>\n",
       "    <tr>\n",
       "      <th>2</th>\n",
       "      <td>3</td>\n",
       "      <td>5/23/2014</td>\n",
       "      <td>2</td>\n",
       "      <td>2.21</td>\n",
       "      <td>2014</td>\n",
       "      <td>2012</td>\n",
       "    </tr>\n",
       "    <tr>\n",
       "      <th>3</th>\n",
       "      <td>4</td>\n",
       "      <td>10/24/2014</td>\n",
       "      <td>2</td>\n",
       "      <td>10.48</td>\n",
       "      <td>2014</td>\n",
       "      <td>2012</td>\n",
       "    </tr>\n",
       "    <tr>\n",
       "      <th>4</th>\n",
       "      <td>5</td>\n",
       "      <td>10/13/2012</td>\n",
       "      <td>2</td>\n",
       "      <td>3.94</td>\n",
       "      <td>2012</td>\n",
       "      <td>2012</td>\n",
       "    </tr>\n",
       "  </tbody>\n",
       "</table>\n",
       "</div>"
      ],
      "text/plain": [
       "   TransactionID TransactionDate  CustomerID  Amount  Year  Origin_Year\n",
       "0              1        9/4/2012           1   20.26  2012         2012\n",
       "1              2       5/15/2012           2   10.87  2012         2012\n",
       "2              3       5/23/2014           2    2.21  2014         2012\n",
       "3              4      10/24/2014           2   10.48  2014         2012\n",
       "4              5      10/13/2012           2    3.94  2012         2012"
      ]
     },
     "execution_count": 15,
     "metadata": {},
     "output_type": "execute_result"
    }
   ],
   "source": [
    "df_year = df_without_outliers.copy()\n",
    "df_year['Year'] = pd.DatetimeIndex(df_year['TransactionDate']).year\n",
    "\n",
    "summed_df = df_year.groupby(df_year['CustomerID'])[['Year']].min()\n",
    "merged_df = pd.merge(df_year, summed_df, on='CustomerID', how='left')\n",
    "merged_df = merged_df.rename(columns = {\"Year_x\": \"Year\", \"Year_y\":\"Origin_Year\"}) \n",
    "\n",
    "merged_df.head()"
   ]
  },
  {
   "cell_type": "markdown",
   "metadata": {},
   "source": [
    "## Step 4: Calculate cumulative transaction amounts"
   ]
  },
  {
   "cell_type": "code",
   "execution_count": 16,
   "metadata": {},
   "outputs": [
    {
     "data": {
      "text/html": [
       "<div>\n",
       "<style scoped>\n",
       "    .dataframe tbody tr th:only-of-type {\n",
       "        vertical-align: middle;\n",
       "    }\n",
       "\n",
       "    .dataframe tbody tr th {\n",
       "        vertical-align: top;\n",
       "    }\n",
       "\n",
       "    .dataframe thead th {\n",
       "        text-align: right;\n",
       "    }\n",
       "</style>\n",
       "<table border=\"1\" class=\"dataframe\">\n",
       "  <thead>\n",
       "    <tr style=\"text-align: right;\">\n",
       "      <th></th>\n",
       "      <th>12</th>\n",
       "      <th>24</th>\n",
       "      <th>36</th>\n",
       "      <th>48</th>\n",
       "      <th>60</th>\n",
       "      <th>72</th>\n",
       "    </tr>\n",
       "    <tr>\n",
       "      <th>Origin</th>\n",
       "      <th></th>\n",
       "      <th></th>\n",
       "      <th></th>\n",
       "      <th></th>\n",
       "      <th></th>\n",
       "      <th></th>\n",
       "    </tr>\n",
       "  </thead>\n",
       "  <tbody>\n",
       "    <tr>\n",
       "      <th>2010-01-01 - 2010-12-31</th>\n",
       "      <td>2259.67</td>\n",
       "      <td>3614.78</td>\n",
       "      <td>5274.81</td>\n",
       "      <td>6632.37</td>\n",
       "      <td>7930.69</td>\n",
       "      <td>8964.49</td>\n",
       "    </tr>\n",
       "    <tr>\n",
       "      <th>2011-01-01 - 2011-12-31</th>\n",
       "      <td>2238.46</td>\n",
       "      <td>3757.9</td>\n",
       "      <td>5465.99</td>\n",
       "      <td>6703.11</td>\n",
       "      <td>7862.24</td>\n",
       "      <td></td>\n",
       "    </tr>\n",
       "    <tr>\n",
       "      <th>2012-01-01 - 2012-12-31</th>\n",
       "      <td>2181.35</td>\n",
       "      <td>3874.69</td>\n",
       "      <td>5226.86</td>\n",
       "      <td>6501.85</td>\n",
       "      <td></td>\n",
       "      <td></td>\n",
       "    </tr>\n",
       "    <tr>\n",
       "      <th>2013-01-01 - 2013-12-31</th>\n",
       "      <td>2179.85</td>\n",
       "      <td>3609.81</td>\n",
       "      <td>5227.75</td>\n",
       "      <td></td>\n",
       "      <td></td>\n",
       "      <td></td>\n",
       "    </tr>\n",
       "    <tr>\n",
       "      <th>2014-01-01 - 2014-12-31</th>\n",
       "      <td>1830.85</td>\n",
       "      <td>3262.05</td>\n",
       "      <td></td>\n",
       "      <td></td>\n",
       "      <td></td>\n",
       "      <td></td>\n",
       "    </tr>\n",
       "    <tr>\n",
       "      <th>2015-01-01 - 2015-12-31</th>\n",
       "      <td>1912.17</td>\n",
       "      <td></td>\n",
       "      <td></td>\n",
       "      <td></td>\n",
       "      <td></td>\n",
       "      <td></td>\n",
       "    </tr>\n",
       "  </tbody>\n",
       "</table>\n",
       "</div>"
      ],
      "text/plain": [
       "                              12       24       36       48       60       72\n",
       "Origin                                                                       \n",
       "2010-01-01 - 2010-12-31  2259.67  3614.78  5274.81  6632.37  7930.69  8964.49\n",
       "2011-01-01 - 2011-12-31  2238.46   3757.9  5465.99  6703.11  7862.24         \n",
       "2012-01-01 - 2012-12-31  2181.35  3874.69  5226.86  6501.85                  \n",
       "2013-01-01 - 2013-12-31  2179.85  3609.81  5227.75                           \n",
       "2014-01-01 - 2014-12-31  1830.85  3262.05                                    \n",
       "2015-01-01 - 2015-12-31  1912.17                                             "
      ]
     },
     "execution_count": 16,
     "metadata": {},
     "output_type": "execute_result"
    }
   ],
   "source": [
    "merged_df_amount = merged_df\n",
    "merged_df_amount['12'] = np.where(merged_df_amount['Origin_Year'] == merged_df_amount['Year'], merged_df_amount['Amount'], 0)\n",
    "merged_df_amount['24'] = np.where((merged_df_amount['Year'] - merged_df_amount['Origin_Year'])==1, merged_df_amount['Amount'], 0)\n",
    "merged_df_amount['36'] = np.where((merged_df_amount['Year'] - merged_df_amount['Origin_Year'])==2, merged_df_amount['Amount'], 0)\n",
    "merged_df_amount['48'] = np.where((merged_df_amount['Year'] - merged_df_amount['Origin_Year'])==3, merged_df_amount['Amount'] , 0)\n",
    "merged_df_amount['60'] = np.where((merged_df_amount['Year'] - merged_df_amount['Origin_Year'])==4, merged_df_amount['Amount'], 0)\n",
    "merged_df_amount['72'] = np.where((merged_df_amount['Year'] - merged_df_amount['Origin_Year'])==5, merged_df_amount['Amount'], 0)\n",
    "\n",
    "summed_df1 = merged_df_amount.groupby(['Origin_Year'])[['12','24','36','48','60','72']].sum()\n",
    "summed_df2 = pd.DataFrame(np.where(summed_df1==0, 0, summed_df1.cumsum(1)),index=list(summed_df1.index),\n",
    "                          columns=['12','24','36','48','60','72'])\n",
    "\n",
    "as_list2 = ['2010-01-01 - 2010-12-31','2011-01-01 - 2011-12-31','2012-01-01 - 2012-12-31','2013-01-01 - 2013-12-31',\n",
    "            '2014-01-01 - 2014-12-31','2015-01-01 - 2015-12-31']\n",
    "summed_df2.index = as_list2\n",
    "summed_df2.index.name = 'Origin'\n",
    "\n",
    "summed_df4 = pd.DataFrame(np.where((summed_df2 > 0), round(summed_df2,2), ''),index=list(summed_df2.index),\n",
    "                          columns=['12','24','36','48','60','72'])\n",
    "summed_df4.index = as_list2\n",
    "summed_df4.index.name = 'Origin'\n",
    "summed_df4"
   ]
  },
  {
   "cell_type": "markdown",
   "metadata": {},
   "source": [
    "## Step 5: Calculate new customers"
   ]
  },
  {
   "cell_type": "code",
   "execution_count": 17,
   "metadata": {},
   "outputs": [
    {
     "data": {
      "text/html": [
       "<div>\n",
       "<style scoped>\n",
       "    .dataframe tbody tr th:only-of-type {\n",
       "        vertical-align: middle;\n",
       "    }\n",
       "\n",
       "    .dataframe tbody tr th {\n",
       "        vertical-align: top;\n",
       "    }\n",
       "\n",
       "    .dataframe thead th {\n",
       "        text-align: right;\n",
       "    }\n",
       "</style>\n",
       "<table border=\"1\" class=\"dataframe\">\n",
       "  <thead>\n",
       "    <tr style=\"text-align: right;\">\n",
       "      <th></th>\n",
       "      <th>12</th>\n",
       "      <th>24</th>\n",
       "      <th>36</th>\n",
       "      <th>48</th>\n",
       "      <th>60</th>\n",
       "      <th>72</th>\n",
       "    </tr>\n",
       "    <tr>\n",
       "      <th>Origin</th>\n",
       "      <th></th>\n",
       "      <th></th>\n",
       "      <th></th>\n",
       "      <th></th>\n",
       "      <th></th>\n",
       "      <th></th>\n",
       "    </tr>\n",
       "  </thead>\n",
       "  <tbody>\n",
       "    <tr>\n",
       "      <th>2010-01-01 - 2010-12-31</th>\n",
       "      <td>172</td>\n",
       "      <td>172</td>\n",
       "      <td>172</td>\n",
       "      <td>172</td>\n",
       "      <td>172</td>\n",
       "      <td>172</td>\n",
       "    </tr>\n",
       "    <tr>\n",
       "      <th>2011-01-01 - 2011-12-31</th>\n",
       "      <td>170</td>\n",
       "      <td>170</td>\n",
       "      <td>170</td>\n",
       "      <td>170</td>\n",
       "      <td>170</td>\n",
       "      <td></td>\n",
       "    </tr>\n",
       "    <tr>\n",
       "      <th>2012-01-01 - 2012-12-31</th>\n",
       "      <td>163</td>\n",
       "      <td>163</td>\n",
       "      <td>163</td>\n",
       "      <td>163</td>\n",
       "      <td></td>\n",
       "      <td></td>\n",
       "    </tr>\n",
       "    <tr>\n",
       "      <th>2013-01-01 - 2013-12-31</th>\n",
       "      <td>180</td>\n",
       "      <td>180</td>\n",
       "      <td>180</td>\n",
       "      <td></td>\n",
       "      <td></td>\n",
       "      <td></td>\n",
       "    </tr>\n",
       "    <tr>\n",
       "      <th>2014-01-01 - 2014-12-31</th>\n",
       "      <td>155</td>\n",
       "      <td>155</td>\n",
       "      <td></td>\n",
       "      <td></td>\n",
       "      <td></td>\n",
       "      <td></td>\n",
       "    </tr>\n",
       "    <tr>\n",
       "      <th>2015-01-01 - 2015-12-31</th>\n",
       "      <td>160</td>\n",
       "      <td></td>\n",
       "      <td></td>\n",
       "      <td></td>\n",
       "      <td></td>\n",
       "      <td></td>\n",
       "    </tr>\n",
       "  </tbody>\n",
       "</table>\n",
       "</div>"
      ],
      "text/plain": [
       "                          12   24   36   48   60   72\n",
       "Origin                                               \n",
       "2010-01-01 - 2010-12-31  172  172  172  172  172  172\n",
       "2011-01-01 - 2011-12-31  170  170  170  170  170     \n",
       "2012-01-01 - 2012-12-31  163  163  163  163          \n",
       "2013-01-01 - 2013-12-31  180  180  180               \n",
       "2014-01-01 - 2014-12-31  155  155                    \n",
       "2015-01-01 - 2015-12-31  160                         "
      ]
     },
     "execution_count": 17,
     "metadata": {},
     "output_type": "execute_result"
    }
   ],
   "source": [
    "merged_df_customers = merged_df\n",
    "merged_df_customers['12'] = np.where((merged_df_customers['Year'] == merged_df_customers['Origin_Year']), 1, 0)\n",
    "merged_df_customers['24'] = np.where((merged_df_customers['12']==1) & (merged_df_customers['Origin_Year']<2015), 1, 0)\n",
    "merged_df_customers['36'] = np.where((merged_df_customers['12']==1) & (merged_df_customers['Origin_Year']<2014), 1, 0)\n",
    "merged_df_customers['48'] = np.where((merged_df_customers['12']==1) & (merged_df_customers['Origin_Year']<2013), 1, 0)\n",
    "merged_df_customers['60'] = np.where((merged_df_customers['12']==1) & (merged_df_customers['Origin_Year']<2012), 1, 0)\n",
    "merged_df_customers['72'] = np.where((merged_df_customers['12']==1) & (merged_df_customers['Origin_Year']<2011), 1, 0)\n",
    "merged_df_customers = merged_df_customers[merged_df_customers['12'] != 0]\n",
    "\n",
    "x = merged_df_customers.sort_values('CustomerID', ascending=False).drop_duplicates('CustomerID').sort_index()\n",
    "\n",
    "summed_df3 = x.groupby(['Origin_Year'])[['12','24','36','48','60','72']].sum()\n",
    "\n",
    "summed_df3.index = as_list2\n",
    "summed_df3.index.name = 'Origin'\n",
    "\n",
    "summed_df5 = pd.DataFrame(np.where((summed_df3 > 0), summed_df3, ''),index=list(summed_df3.index),\n",
    "                          columns=['12','24','36','48','60','72'])\n",
    "summed_df5.index = as_list2\n",
    "summed_df5.index.name = 'Origin'\n",
    "summed_df5"
   ]
  },
  {
   "cell_type": "markdown",
   "metadata": {},
   "source": [
    "## Step 6: Historic CLV"
   ]
  },
  {
   "cell_type": "code",
   "execution_count": 18,
   "metadata": {
    "scrolled": false
   },
   "outputs": [
    {
     "data": {
      "text/html": [
       "<div>\n",
       "<style scoped>\n",
       "    .dataframe tbody tr th:only-of-type {\n",
       "        vertical-align: middle;\n",
       "    }\n",
       "\n",
       "    .dataframe tbody tr th {\n",
       "        vertical-align: top;\n",
       "    }\n",
       "\n",
       "    .dataframe thead th {\n",
       "        text-align: right;\n",
       "    }\n",
       "</style>\n",
       "<table border=\"1\" class=\"dataframe\">\n",
       "  <thead>\n",
       "    <tr style=\"text-align: right;\">\n",
       "      <th></th>\n",
       "      <th>12</th>\n",
       "      <th>24</th>\n",
       "      <th>36</th>\n",
       "      <th>48</th>\n",
       "      <th>60</th>\n",
       "      <th>72</th>\n",
       "    </tr>\n",
       "    <tr>\n",
       "      <th>Origin</th>\n",
       "      <th></th>\n",
       "      <th></th>\n",
       "      <th></th>\n",
       "      <th></th>\n",
       "      <th></th>\n",
       "      <th></th>\n",
       "    </tr>\n",
       "  </thead>\n",
       "  <tbody>\n",
       "    <tr>\n",
       "      <th>2010-01-01 - 2010-12-31</th>\n",
       "      <td>13.14</td>\n",
       "      <td>21.02</td>\n",
       "      <td>30.67</td>\n",
       "      <td>38.56</td>\n",
       "      <td>46.11</td>\n",
       "      <td>52.12</td>\n",
       "    </tr>\n",
       "    <tr>\n",
       "      <th>2011-01-01 - 2011-12-31</th>\n",
       "      <td>13.17</td>\n",
       "      <td>22.11</td>\n",
       "      <td>32.15</td>\n",
       "      <td>39.43</td>\n",
       "      <td>46.25</td>\n",
       "      <td></td>\n",
       "    </tr>\n",
       "    <tr>\n",
       "      <th>2012-01-01 - 2012-12-31</th>\n",
       "      <td>13.38</td>\n",
       "      <td>23.77</td>\n",
       "      <td>32.07</td>\n",
       "      <td>39.89</td>\n",
       "      <td></td>\n",
       "      <td></td>\n",
       "    </tr>\n",
       "    <tr>\n",
       "      <th>2013-01-01 - 2013-12-31</th>\n",
       "      <td>12.11</td>\n",
       "      <td>20.05</td>\n",
       "      <td>29.04</td>\n",
       "      <td></td>\n",
       "      <td></td>\n",
       "      <td></td>\n",
       "    </tr>\n",
       "    <tr>\n",
       "      <th>2014-01-01 - 2014-12-31</th>\n",
       "      <td>11.81</td>\n",
       "      <td>21.05</td>\n",
       "      <td></td>\n",
       "      <td></td>\n",
       "      <td></td>\n",
       "      <td></td>\n",
       "    </tr>\n",
       "    <tr>\n",
       "      <th>2015-01-01 - 2015-12-31</th>\n",
       "      <td>11.95</td>\n",
       "      <td></td>\n",
       "      <td></td>\n",
       "      <td></td>\n",
       "      <td></td>\n",
       "      <td></td>\n",
       "    </tr>\n",
       "  </tbody>\n",
       "</table>\n",
       "</div>"
      ],
      "text/plain": [
       "                            12     24     36     48     60     72\n",
       "Origin                                                           \n",
       "2010-01-01 - 2010-12-31  13.14  21.02  30.67  38.56  46.11  52.12\n",
       "2011-01-01 - 2011-12-31  13.17  22.11  32.15  39.43  46.25       \n",
       "2012-01-01 - 2012-12-31  13.38  23.77  32.07  39.89              \n",
       "2013-01-01 - 2013-12-31  12.11  20.05  29.04                     \n",
       "2014-01-01 - 2014-12-31  11.81  21.05                            \n",
       "2015-01-01 - 2015-12-31  11.95                                   "
      ]
     },
     "execution_count": 18,
     "metadata": {},
     "output_type": "execute_result"
    }
   ],
   "source": [
    "historic_clv_zero = pd.DataFrame(np.where((summed_df2/summed_df3 >=0), round(summed_df2/summed_df3,2), 0),index=list(summed_df3.index),\n",
    "                          columns=['12','24','36','48','60','72'])\n",
    "historic_clv = pd.DataFrame(np.where((summed_df2/summed_df3 >=0), round(summed_df2/summed_df3,2), ''),index=list(summed_df3.index),\n",
    "                          columns=['12','24','36','48','60','72'])\n",
    "historic_clv.index = as_list2\n",
    "historic_clv.index.name = 'Origin'\n",
    "historic_clv"
   ]
  },
  {
   "cell_type": "code",
   "execution_count": 19,
   "metadata": {},
   "outputs": [],
   "source": [
    "#function for Historic CLV graph\n",
    "def plotsinglegraph(df, xlbl, ylbl, tit):\n",
    "    plt.style.use('seaborn-darkgrid')\n",
    "    df[df == 0.0] = np.nan\n",
    "    df.plot(figsize=(20,10), fontsize = 15, marker='o')\n",
    "    plt.title(tit, fontsize = 20)\n",
    "    plt.xlabel(xlbl,fontsize = 20)\n",
    "    plt.ylabel(ylbl, fontsize = 20)\n",
    "    plt.legend(title ='Origin', fontsize = 15)\n",
    "    legend = plt.legend(title ='Origin', fontsize = 15)\n",
    "    legend.get_title().set_fontsize(20)\n",
    "    idx =df.T.columns\n",
    "    plt.xticks(range(len(idx)),idx)"
   ]
  },
  {
   "cell_type": "code",
   "execution_count": 20,
   "metadata": {},
   "outputs": [
    {
     "data": {
      "image/png": "[encoded data removed]",
      "text/plain": [
       "<Figure size 1440x720 with 1 Axes>"
      ]
     },
     "metadata": {},
     "output_type": "display_data"
    }
   ],
   "source": [
    "plotsinglegraph(historic_clv_zero.T, 'Age (in months)', 'HistoricCLV (in $)', 'Historic CLV')"
   ]
  },
  {
   "cell_type": "code",
   "execution_count": 21,
   "metadata": {},
   "outputs": [
    {
     "data": {
      "text/html": [
       "<div>\n",
       "<style scoped>\n",
       "    .dataframe tbody tr th:only-of-type {\n",
       "        vertical-align: middle;\n",
       "    }\n",
       "\n",
       "    .dataframe tbody tr th {\n",
       "        vertical-align: top;\n",
       "    }\n",
       "\n",
       "    .dataframe thead th {\n",
       "        text-align: right;\n",
       "    }\n",
       "</style>\n",
       "<table border=\"1\" class=\"dataframe\">\n",
       "  <thead>\n",
       "    <tr style=\"text-align: right;\">\n",
       "      <th></th>\n",
       "      <th>HistoricCLV</th>\n",
       "    </tr>\n",
       "    <tr>\n",
       "      <th>Age</th>\n",
       "      <th></th>\n",
       "    </tr>\n",
       "  </thead>\n",
       "  <tbody>\n",
       "    <tr>\n",
       "      <th>12</th>\n",
       "      <td>12.60</td>\n",
       "    </tr>\n",
       "    <tr>\n",
       "      <th>24</th>\n",
       "      <td>21.57</td>\n",
       "    </tr>\n",
       "    <tr>\n",
       "      <th>36</th>\n",
       "      <td>30.94</td>\n",
       "    </tr>\n",
       "    <tr>\n",
       "      <th>48</th>\n",
       "      <td>39.28</td>\n",
       "    </tr>\n",
       "    <tr>\n",
       "      <th>60</th>\n",
       "      <td>46.18</td>\n",
       "    </tr>\n",
       "    <tr>\n",
       "      <th>72</th>\n",
       "      <td>52.12</td>\n",
       "    </tr>\n",
       "  </tbody>\n",
       "</table>\n",
       "</div>"
      ],
      "text/plain": [
       "     HistoricCLV\n",
       "Age             \n",
       "12         12.60\n",
       "24         21.57\n",
       "36         30.94\n",
       "48         39.28\n",
       "60         46.18\n",
       "72         52.12"
      ]
     },
     "execution_count": 21,
     "metadata": {},
     "output_type": "execute_result"
    }
   ],
   "source": [
    "historic_clv_wt_df = pd.DataFrame(np.where((historic_clv_zero*summed_df3 >=0), round(historic_clv_zero*summed_df3,2), 0),index=list(summed_df3.index),\n",
    "                          columns=['12','24','36','48','60','72'])\n",
    "\n",
    "Total_df = pd.DataFrame(historic_clv_wt_df.sum())\n",
    "Total_cust_df = pd.DataFrame(summed_df3.sum())\n",
    "\n",
    "CLV = round(Total_df/Total_cust_df,2)\n",
    "CLV.rename(columns = {0:'HistoricCLV'}, inplace = True)\n",
    "CLV.index.name = 'Age'\n",
    "CLV"
   ]
  },
  {
   "cell_type": "code",
   "execution_count": 22,
   "metadata": {},
   "outputs": [
    {
     "data": {
      "image/png": "[encoded data removed]",
      "text/plain": [
       "<Figure size 1440x720 with 1 Axes>"
      ]
     },
     "metadata": {},
     "output_type": "display_data"
    }
   ],
   "source": [
    "plotsinglegraph(CLV, 'Age (in months)', 'HistoricCLV (in $)', 'Historic CLV')"
   ]
  },
  {
   "cell_type": "markdown",
   "metadata": {},
   "source": [
    "## Step 7: Interpreting your results"
   ]
  },
  {
   "cell_type": "markdown",
   "metadata": {},
   "source": [
    "### How much have customers acquired in 2011 spent to date"
   ]
  },
  {
   "cell_type": "markdown",
   "metadata": {},
   "source": [
    "Customers acquired in 2010 have spent \\\\$7862.24 in total and \\\\$46.25 on average to date. "
   ]
  },
  {
   "cell_type": "markdown",
   "metadata": {},
   "source": [
    "### Do each group of customers exhibit similar or different patterns of spending? What's the implication for the business?"
   ]
  },
  {
   "cell_type": "markdown",
   "metadata": {},
   "source": [
    "Yes, each group of customers appears to exhibit a very similar pattern of spending.\n",
    "This should give us confidence in assuming \\\\$52.12 (Customers acquired in 2010 have spent \\\\$52.12 to date) is a decent lower bound on CLV. This means that the cost to acquire a customer should be less than this lower bound (i.e \\\\$52.12) for the company to be profitable."
   ]
  }
 ],
 "metadata": {
  "kernelspec": {
   "display_name": "Python 3",
   "language": "python",
   "name": "python3"
  },
  "language_info": {
   "codemirror_mode": {
    "name": "ipython",
    "version": 3
   },
   "file_extension": ".py",
   "mimetype": "text/x-python",
   "name": "python",
   "nbconvert_exporter": "python",
   "pygments_lexer": "ipython3",
   "version": "3.6.5"
  }
 },
 "nbformat": 4,
 "nbformat_minor": 2
}
